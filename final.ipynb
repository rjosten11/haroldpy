{
  "cells": [
    {
      "cell_type": "markdown",
      "metadata": {
        "colab_type": "text",
        "id": "view-in-github"
      },
      "source": [
        "<a href=\"https://colab.research.google.com/github/rjosten11/haroldpy/blob/main/final.ipynb\" target=\"_parent\"><img src=\"https://colab.research.google.com/assets/colab-badge.svg\" alt=\"Open In Colab\"/></a>"
      ]
    },
    {
      "cell_type": "code",
      "execution_count": null,
      "metadata": {
        "id": "LBX7eeMtYIHu"
      },
      "outputs": [],
      "source": [
        "from folium.map import Marker\n",
        "import folium\n",
        "map = folium.Map(location=[9.122193, 125.537603] ,zoom_start=13)\n",
        "\n",
        "Markerr = {\n",
        "    0 : {\"location\": [9.11911, 125.538875,], \"popup\" : \"<img src='https://m.facebook.com/cbrupdates/photos/see-you-all-sa-opening-tomorrow-guys-christmaswithjollibee/1694852323899351/'alt='width='300' height='200'\", \"tooltip\": \"Cabadbaran Jollibee Drive Thru\", \"name\": \"Restaurant\"},\n",
        "    1 : {\"location\": [9.12130, 125.5381070,], \"popup\" : \"<img src='https://restaurantguru.com/Gen-Tuna-Sutukil-Cabadbaran-City-2'alt='width='300' height='200'\", \"name\": \"Restaurant\"},\n",
        "    2 : {\"location\": [9.123820, 125.5379030,], \"popup\" : \"<img src='http://cabadbaranadn.gov.ph/cbr/index.php/2019/07/27/7-eleven-is-finally-open/'alt='width='300' height='200'\", \"tooltip\": \"Seven11\", \"name\": \"Convenience Store\"},\n",
        "}\n",
        "\n",
        "for x in range(len(Markerr)):\n",
        "  folium.Marker(\n",
        "      Markerr[x]['location'],\n",
        "      popup=Markerr[x]['popup'],\n",
        "      tooltip=Markerr[x]['tooltip']\n",
        "  ).add_to(map)\n",
        "\n",
        "#Path\n",
        "folium.GeoJson(\"/content/drive/MyDrive/GeoJson/newmap.geojson\", \n",
        "               name=\"Path\", tooltip=folium.GeoJsonTooltip(['stroke']),\n",
        "               style_function = lambda x: {'color': x['properties']['stroke'], 'weight': x['properties']['stroke-width']}).add_to(map)\n",
        "#School\n",
        "folium.GeoJson(\"/content/drive/MyDrive/GeoJson/churchesmap.geojson\",\n",
        "               name=\"School Boundaries\",\n",
        "               style_function= lambda x: BordersStyle,\n",
        "               tooltip=folium.GeoJsonTooltip(['stroke']) ) .add_to(map) \n",
        "\n",
        "\n",
        "folium.LayerControl().add_to(map)\n",
        "\n",
        "BordersStyle = {\n",
        "    'color' : 'red',\n",
        "    'weight': 5,\n",
        "    'fillcolor': 'green',\n",
        "    'fillopacity': 0.3\n",
        "\n",
        "}\n",
        "map\n",
        "#map.save('/content/drive/MyDrive/Class Files/GE 124/index.html')"
      ]
    },
    {
      "cell_type": "code",
      "execution_count": null,
      "metadata": {
        "colab": {
          "background_save": true
        },
        "id": "C5lV9obuYUch",
        "outputId": "63dc787d-ef14-48a8-a2b1-23bb0e20aed1"
      },
      "outputs": [
        {
          "name": "stdout",
          "output_type": "stream",
          "text": [
            "Current Python Version- 3.7.13\n"
          ]
        }
      ],
      "source": [
        "--version"
      ]
    }
  ],
  "metadata": {
    "colab": {
      "authorship_tag": "ABX9TyNE0O7I+r5dnOZLNPScwwBR",
      "collapsed_sections": [],
      "include_colab_link": true,
      "provenance": []
    },
    "kernelspec": {
      "display_name": "Python 3.10.2 64-bit",
      "language": "python",
      "name": "python3"
    },
    "language_info": {
      "name": "python",
      "version": "3.10.2"
    },
    "vscode": {
      "interpreter": {
        "hash": "4c7d5de4428f277dc92d5a654cb5fc70c0dc795874d83e08047f947f8c63bceb"
      }
    }
  },
  "nbformat": 4,
  "nbformat_minor": 0
}
